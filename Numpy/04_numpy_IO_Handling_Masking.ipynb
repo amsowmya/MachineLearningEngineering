{
 "cells": [
  {
   "cell_type": "markdown",
   "metadata": {},
   "source": [
    "IO Handling with NumPy\n",
    "\n",
    "It referens to the process of inputting data to and from a computer system.\n",
    "\n",
    ". This inclues reading data from a variety of sources, such as files or databases, and writing data to different types of storage such as hard drives or cloud storage\n"
   ]
  },
  {
   "cell_type": "markdown",
   "metadata": {},
   "source": [
    "1. numpy.loadtxt(): This function is used to load data from a text file or a CSV file into a numpy array\n",
    "2. numpy.genfromtxt(): This function is used to load data from a text file or a CSV file into a numpy array, and can handle more complex data str such as missing values, variable number of columns etc..\n",
    "3. numpy.savetxt(): This function is used to save data from a numpy array to a text file or CSV file.\n",
    "4. numpy.save(): This function is used to save data from a numpy array to a binary file.The data can be loaded later using the numpy.load() function.\n",
    "5. numpy.load(): This function is used to load data from a binary file created using numpy.save()"
   ]
  },
  {
   "cell_type": "code",
   "execution_count": 1,
   "metadata": {},
   "outputs": [],
   "source": [
    "import numpy as np"
   ]
  },
  {
   "cell_type": "code",
   "execution_count": 2,
   "metadata": {},
   "outputs": [],
   "source": [
    "#save data to text file\n",
    "data = np.array([[1,2,3], [4,5,6]])\n",
    "np.savetxt(\"datadoc.txt\", data, delimiter=',')\n",
    "\n",
    "load_data = np.loadtxt(\"datadoc.txt\", delimiter=',')\n",
    "np.save(\"data.npy\", data)\n",
    "loaded_data = np.load(\"data.npy\")"
   ]
  },
  {
   "cell_type": "code",
   "execution_count": 4,
   "metadata": {},
   "outputs": [
    {
     "data": {
      "text/plain": [
       "array([[1., 2., 3.],\n",
       "       [4., 5., 6.]])"
      ]
     },
     "execution_count": 4,
     "metadata": {},
     "output_type": "execute_result"
    }
   ],
   "source": [
    "#Load data from text file\n",
    "data = np.genfromtxt(\"datadoc.txt\", delimiter=',', missing_values=\" \", filling_values=0)\n",
    "data"
   ]
  },
  {
   "cell_type": "code",
   "execution_count": 6,
   "metadata": {},
   "outputs": [],
   "source": [
    "#compressing arrays for efficient storage\n",
    "np.savez_compressed(\"data_compressed.npy\", data)"
   ]
  },
  {
   "cell_type": "markdown",
   "metadata": {},
   "source": [
    "Masking\n",
    "- Masking of arrays in NumPy involves creating a Boolean mask"
   ]
  },
  {
   "cell_type": "code",
   "execution_count": 7,
   "metadata": {},
   "outputs": [],
   "source": [
    "arr = np.array([1,2,3,4,5])"
   ]
  },
  {
   "cell_type": "code",
   "execution_count": 20,
   "metadata": {},
   "outputs": [
    {
     "name": "stdout",
     "output_type": "stream",
     "text": [
      "[4 5]\n",
      "[False False False  True  True]\n"
     ]
    }
   ],
   "source": [
    "mask = arr>3\n",
    "result = arr[mask]\n",
    "print(result)\n",
    "\n",
    "print(mask)"
   ]
  },
  {
   "cell_type": "code",
   "execution_count": 11,
   "metadata": {},
   "outputs": [],
   "source": [
    "#['False', 'False', 'False', 'True', 'True']"
   ]
  },
  {
   "cell_type": "code",
   "execution_count": 18,
   "metadata": {},
   "outputs": [
    {
     "data": {
      "text/plain": [
       "array([0, 0, 0, 1, 2])"
      ]
     },
     "execution_count": 18,
     "metadata": {},
     "output_type": "execute_result"
    }
   ],
   "source": [
    "arr1 = np.array([-1, -2, 0, 1, 2])\n",
    "\n",
    "mask = arr1<0\n",
    "arr1[mask] = 0\n",
    "arr1"
   ]
  },
  {
   "cell_type": "code",
   "execution_count": 19,
   "metadata": {},
   "outputs": [
    {
     "name": "stdout",
     "output_type": "stream",
     "text": [
      "[ True  True False False False]\n"
     ]
    }
   ],
   "source": [
    "print(mask)"
   ]
  },
  {
   "cell_type": "code",
   "execution_count": null,
   "metadata": {},
   "outputs": [],
   "source": []
  }
 ],
 "metadata": {
  "kernelspec": {
   "display_name": "mlengineering",
   "language": "python",
   "name": "python3"
  },
  "language_info": {
   "codemirror_mode": {
    "name": "ipython",
    "version": 3
   },
   "file_extension": ".py",
   "mimetype": "text/x-python",
   "name": "python",
   "nbconvert_exporter": "python",
   "pygments_lexer": "ipython3",
   "version": "3.10.0"
  },
  "orig_nbformat": 4
 },
 "nbformat": 4,
 "nbformat_minor": 2
}
