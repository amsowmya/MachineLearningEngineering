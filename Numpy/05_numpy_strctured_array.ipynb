{
 "cells": [
  {
   "cell_type": "markdown",
   "metadata": {},
   "source": [
    "Strctured array"
   ]
  },
  {
   "cell_type": "code",
   "execution_count": 2,
   "metadata": {},
   "outputs": [],
   "source": [
    "import numpy as np"
   ]
  },
  {
   "cell_type": "code",
   "execution_count": 10,
   "metadata": {},
   "outputs": [
    {
     "data": {
      "text/plain": [
       "array([(b'john', 32, 1.44), (b'jhanvi', 23, 1.9 )],\n",
       "      dtype=[('name', 'S10'), ('age', '<i4'), ('height', '<f8')])"
      ]
     },
     "execution_count": 10,
     "metadata": {},
     "output_type": "execute_result"
    }
   ],
   "source": [
    "#define the data type of each field\n",
    "dt = np.dtype([('name', 'S10'), ('age', 'i4'), ('height', 'f8')])\n",
    "\n",
    "#create the strctured array\n",
    "people = np.array([('john', 32, 1.44), ('jhanvi', 23, 1.9)], dtype=dt)\n",
    "people"
   ]
  },
  {
   "cell_type": "code",
   "execution_count": 16,
   "metadata": {},
   "outputs": [
    {
     "name": "stdout",
     "output_type": "stream",
     "text": [
      "(b'john', 32, 1.44)\n",
      "b'john'\n",
      "32\n",
      "1.44\n"
     ]
    }
   ],
   "source": [
    "#Access the first record\n",
    "person = people[0]\n",
    "print(person)\n",
    "\n",
    "name = person['name']\n",
    "print(name)\n",
    "\n",
    "age = person['age']\n",
    "print(age)\n",
    "\n",
    "height = person['height']\n",
    "print(height)"
   ]
  },
  {
   "cell_type": "code",
   "execution_count": 20,
   "metadata": {},
   "outputs": [
    {
     "name": "stdout",
     "output_type": "stream",
     "text": [
      "1.67\n",
      "[(b'john', 32, 1.44)]\n"
     ]
    }
   ],
   "source": [
    "#calculate the avg height of the all the people\n",
    "avg_height = people['height'].mean()\n",
    "print(avg_height)\n",
    "\n",
    "older_than_30 = people[people['age']>30]\n",
    "print(older_than_30)"
   ]
  },
  {
   "cell_type": "code",
   "execution_count": 26,
   "metadata": {},
   "outputs": [
    {
     "data": {
      "text/plain": [
       "array([(b'john', [32, 32], (22, 3, 1990), 1.8),\n",
       "       (b'Jahnvi', [23, 23], (14, 9, 2000), 1.6)],\n",
       "      dtype=[('name', 'S10'), ('age', '<i4', (2,)), ('birthdate', [('date', '<i2'), ('month', '<i2'), ('year', '<i4')]), ('height', '<f8')])"
      ]
     },
     "execution_count": 26,
     "metadata": {},
     "output_type": "execute_result"
    }
   ],
   "source": [
    "#Other feature\n",
    "#define custom data type\n",
    "date_type = np.dtype([('date', 'i2'), ('month', 'i2'), ('year', 'i4')])\n",
    "\n",
    "dt = np.dtype([('name', 'S10'), ('age', '2i'), ('birthdate', date_type), ('height', 'f8')])\n",
    "\n",
    "person = np.array([('john', 32, (22, 3, 1990), 1.8), ('Jahnvi', 23, (14, 9, 2000), 1.6)], dtype=dt)\n",
    "person"
   ]
  },
  {
   "cell_type": "code",
   "execution_count": 28,
   "metadata": {},
   "outputs": [
    {
     "data": {
      "text/plain": [
       "(22, 3, 1990)"
      ]
     },
     "execution_count": 28,
     "metadata": {},
     "output_type": "execute_result"
    }
   ],
   "source": [
    "birthday = person[0][2]\n",
    "birthday"
   ]
  },
  {
   "cell_type": "code",
   "execution_count": 30,
   "metadata": {},
   "outputs": [
    {
     "data": {
      "text/plain": [
       "(22, 3, 1990)"
      ]
     },
     "execution_count": 30,
     "metadata": {},
     "output_type": "execute_result"
    }
   ],
   "source": [
    "birthday = person[0]['birthdate']\n",
    "birthday"
   ]
  },
  {
   "cell_type": "code",
   "execution_count": 31,
   "metadata": {},
   "outputs": [
    {
     "data": {
      "text/plain": [
       "1990"
      ]
     },
     "execution_count": 31,
     "metadata": {},
     "output_type": "execute_result"
    }
   ],
   "source": [
    "year = person[0]['birthdate']['year']\n",
    "year"
   ]
  },
  {
   "cell_type": "code",
   "execution_count": 33,
   "metadata": {},
   "outputs": [
    {
     "data": {
      "text/plain": [
       "array([(b'Jahnvi', [23, 23], (14, 9, 2000), 1.6),\n",
       "       (b'john', [32, 32], (22, 3, 1990), 1.8)],\n",
       "      dtype=[('name', 'S10'), ('age', '<i4', (2,)), ('birthdate', [('date', '<i2'), ('month', '<i2'), ('year', '<i4')]), ('height', '<f8')])"
      ]
     },
     "execution_count": 33,
     "metadata": {},
     "output_type": "execute_result"
    }
   ],
   "source": [
    "#sorting strctured array\n",
    "array = np.sort(person, order='age')\n",
    "array"
   ]
  },
  {
   "cell_type": "code",
   "execution_count": 34,
   "metadata": {},
   "outputs": [
    {
     "data": {
      "text/plain": [
       "array([(b'john', 33, 1.44), (b'jhanvi', 24, 1.9 )],\n",
       "      dtype=[('name', 'S10'), ('age', '<i4'), ('height', '<f8')])"
      ]
     },
     "execution_count": 34,
     "metadata": {},
     "output_type": "execute_result"
    }
   ],
   "source": [
    "#Modifying fields\n",
    "people['age'] += 1\n",
    "people"
   ]
  },
  {
   "cell_type": "code",
   "execution_count": 35,
   "metadata": {},
   "outputs": [
    {
     "data": {
      "text/plain": [
       "array([(b'john', 33, 2.94), (b'jhanvi', 24, 1.9 )],\n",
       "      dtype=[('name', 'S10'), ('age', '<i4'), ('height', '<f8')])"
      ]
     },
     "execution_count": 35,
     "metadata": {},
     "output_type": "execute_result"
    }
   ],
   "source": [
    "people[0]['height'] += 1.5\n",
    "people"
   ]
  },
  {
   "cell_type": "code",
   "execution_count": 36,
   "metadata": {},
   "outputs": [
    {
     "name": "stdout",
     "output_type": "stream",
     "text": [
      "[33 24]\n"
     ]
    }
   ],
   "source": [
    "print(people['age'])"
   ]
  },
  {
   "cell_type": "code",
   "execution_count": 37,
   "metadata": {},
   "outputs": [
    {
     "name": "stdout",
     "output_type": "stream",
     "text": [
      "[2.94 1.9 ]\n"
     ]
    }
   ],
   "source": [
    "print(people['height'])"
   ]
  },
  {
   "cell_type": "code",
   "execution_count": null,
   "metadata": {},
   "outputs": [],
   "source": []
  }
 ],
 "metadata": {
  "kernelspec": {
   "display_name": "mlengineering",
   "language": "python",
   "name": "python3"
  },
  "language_info": {
   "codemirror_mode": {
    "name": "ipython",
    "version": 3
   },
   "file_extension": ".py",
   "mimetype": "text/x-python",
   "name": "python",
   "nbconvert_exporter": "python",
   "pygments_lexer": "ipython3",
   "version": "3.10.0"
  },
  "orig_nbformat": 4
 },
 "nbformat": 4,
 "nbformat_minor": 2
}
